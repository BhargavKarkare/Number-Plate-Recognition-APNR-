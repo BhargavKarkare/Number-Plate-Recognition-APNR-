{
 "cells": [
  {
   "cell_type": "markdown",
   "id": "ba45bb26",
   "metadata": {},
   "source": [
    "<h2> 1. Installing Pakages"
   ]
  },
  {
   "cell_type": "code",
   "execution_count": 394,
   "id": "b646d7f5",
   "metadata": {},
   "outputs": [
    {
     "name": "stdout",
     "output_type": "stream",
     "text": [
      "Requirement already satisfied: imutils in c:\\users\\hp\\anaconda3\\lib\\site-packages (0.5.4)\n",
      "Note: you may need to restart the kernel to use updated packages.\n"
     ]
    }
   ],
   "source": [
    "pip install imutils"
   ]
  },
  {
   "cell_type": "code",
   "execution_count": 395,
   "id": "1630d6b0",
   "metadata": {},
   "outputs": [
    {
     "name": "stdout",
     "output_type": "stream",
     "text": [
      "Requirement already satisfied: opencv-python in c:\\users\\hp\\anaconda3\\lib\\site-packages (4.5.5.62)\n",
      "Requirement already satisfied: numpy>=1.14.5 in c:\\users\\hp\\anaconda3\\lib\\site-packages (from opencv-python) (1.20.3)\n",
      "Note: you may need to restart the kernel to use updated packages.\n"
     ]
    }
   ],
   "source": [
    "pip install opencv-python"
   ]
  },
  {
   "cell_type": "code",
   "execution_count": 396,
   "id": "6f047426",
   "metadata": {},
   "outputs": [
    {
     "name": "stdout",
     "output_type": "stream",
     "text": [
      "Requirement already satisfied: pytesseract in c:\\users\\hp\\anaconda3\\lib\\site-packages (0.3.8)\n",
      "Requirement already satisfied: Pillow in c:\\users\\hp\\anaconda3\\lib\\site-packages (from pytesseract) (8.4.0)\n",
      "Note: you may need to restart the kernel to use updated packages.\n"
     ]
    }
   ],
   "source": [
    "pip install pytesseract"
   ]
  },
  {
   "cell_type": "markdown",
   "id": "d30d8393",
   "metadata": {},
   "source": [
    "<h2> 2. Importing Pakages"
   ]
  },
  {
   "cell_type": "code",
   "execution_count": 429,
   "id": "368f761e",
   "metadata": {},
   "outputs": [],
   "source": [
    "import cv2\n",
    "import imutils\n",
    "import pytesseract\n",
    "import numpy as np"
   ]
  },
  {
   "cell_type": "code",
   "execution_count": 449,
   "id": "4d04e06b",
   "metadata": {},
   "outputs": [],
   "source": [
    "#read the image file\n",
    "image = cv2.imread('car3.jpg')\n",
    "# resize or standardize the image\n",
    "image = imutils.resize(image, width = 500)"
   ]
  },
  {
   "cell_type": "code",
   "execution_count": 450,
   "id": "8b4ea40c",
   "metadata": {},
   "outputs": [],
   "source": [
    "#Display the orginal image\n",
    "cv2.imshow(\"Original Image\", image) #Original Image is the name of window\n",
    "cv2.waitKey(0)\n",
    "cv2.destroyAllWindows()"
   ]
  },
  {
   "cell_type": "markdown",
   "id": "eb734c2f",
   "metadata": {},
   "source": [
    "#### 2.1 Why turning the image into grayscale?\n",
    "- It is because it will reduce the dimension, also reduces the complexity of image and there are few algorithms like canny which only works on grayscale images."
   ]
  },
  {
   "cell_type": "code",
   "execution_count": 451,
   "id": "a139fac9",
   "metadata": {},
   "outputs": [],
   "source": [
    "#Convert image into gray scale\n",
    "gray = cv2.cvtColor(image, cv2.COLOR_BGR2GRAY)\n",
    "cv2.imshow(\"Gray Scale Image\", gray)\n",
    "cv2.waitKey(0)\n",
    "cv2.destroyAllWindows()"
   ]
  },
  {
   "cell_type": "markdown",
   "id": "a5a2fca2",
   "metadata": {},
   "source": [
    "#### 2.2 Bilateral Filtering \n",
    "- A bilateral filter is used for smoothening images and reducing noise, while preserving edges. (https://www.geeksforgeeks.org/python-bilateral-filtering/)"
   ]
  },
  {
   "cell_type": "code",
   "execution_count": 452,
   "id": "d4fbbefc",
   "metadata": {},
   "outputs": [],
   "source": [
    "#Removing Noise and making it smooth\n",
    "gray = cv2.bilateralFilter(gray, 11, 17, 17)\n",
    "cv2.imshow(\"Smooth Image\", gray)\n",
    "cv2.waitKey(0)\n",
    "cv2.destroyAllWindows()"
   ]
  },
  {
   "cell_type": "code",
   "execution_count": 453,
   "id": "1d7e4a23",
   "metadata": {},
   "outputs": [],
   "source": [
    "#Finding edges of the images\n",
    "edges = cv2.Canny(gray, 200, 250)\n",
    "cv2.imshow(\"Cannyedge\", edges)\n",
    "cv2.waitKey(0)\n",
    "cv2.destroyAllWindows()"
   ]
  },
  {
   "cell_type": "markdown",
   "id": "a84a7096",
   "metadata": {},
   "source": [
    "#### 2.3 What is Hierarchy? (https://docs.opencv.org/4.x/d9/d8b/tutorial_py_contours_hierarchy.html)\n",
    "- Normally we use the cv.findContours() function to detect objects in an image, right ? Sometimes objects are in different locations. But in some cases, some shapes are inside other shapes. Just like nested figures. In this case, we call outer one as parent and inner one as child. This way, contours in an image has some relationship to each other. And we can specify how one contour is connected to each other, like, is it child of some other contour, or is it a parent etc. Representation of this relationship is called the Hierarchy.\n",
    "\n",
    "- 1. RETR_LIST It simply retrieves all the contours, but doesn't create any parent-child relationship. This is what we are using here \n",
    "2. CHAIN_APPROX_SIMPLE (https://docs.opencv.org/4.x/d4/d73/tutorial_py_contours_begin.html)"
   ]
  },
  {
   "cell_type": "code",
   "execution_count": 454,
   "id": "33403b3f",
   "metadata": {},
   "outputs": [],
   "source": [
    "#Find contour based on the image\n",
    "cnts,new = cv2.findContours(edges.copy() ,cv2.RETR_LIST, cv2.CHAIN_APPROX_SIMPLE)\n",
    "image1 = image.copy()\n",
    "cv2.drawContours(image1, cnts, -1, (0,255,0),3) #to draw all contours in image\n",
    "cv2.imshow(\"Canny Contour Image\", image1)\n",
    "cv2.waitKey(0)\n",
    "cv2.destroyAllWindows()"
   ]
  },
  {
   "cell_type": "code",
   "execution_count": 455,
   "id": "281886d4",
   "metadata": {},
   "outputs": [],
   "source": [
    "cnts = sorted(cnts, key=cv2.contourArea, reverse=True)[:20]\n",
    "NumberPlateCount = None\n",
    "image2= image.copy()\n",
    "cv2.drawContours(image2, cnts, -1, (0,255,0),3)\n",
    "cv2.imshow(\"Top 30 Contour\", image2)\n",
    "cv2.waitKey(0)\n",
    "cv2.destroyAllWindows()"
   ]
  },
  {
   "cell_type": "code",
   "execution_count": 456,
   "id": "59a28917",
   "metadata": {},
   "outputs": [],
   "source": [
    "count = 0\n",
    "name = 1\n",
    "\n",
    "for i in cnts:\n",
    "    perimetre = cv2.arcLength(i,True) #perimetre is also called arclength\n",
    "    approx = cv2.approxPolyDP(i, 0.02*perimetre, True)\n",
    "    if len(approx)==4:  # 4 means 4 corners of numberplate\n",
    "        NumberPlateCount = approx\n",
    "        x,y,w,h = cv2.boundingRect(i)\n",
    "        crop_image = image[y:y+h, x:x+w]\n",
    "        cv2.imwrite(str(name)+ '.png', crop_image)\n",
    "        name+=1\n",
    "        break\n",
    "        \n",
    "#Draw contours in the main image that is identified as numberplate\n",
    "cv2.drawContours(image,[NumberPlateCount], -1,(0,255,0),3)\n",
    "cv2.imshow(\"Final Image\", image)\n",
    "cv2.waitKey(0)\n",
    "cv2.destroyAllWindows()"
   ]
  },
  {
   "cell_type": "code",
   "execution_count": 457,
   "id": "f4cea24d",
   "metadata": {},
   "outputs": [],
   "source": [
    "#cropping the only numberplate \n",
    "crop_image_loc = '1.png'\n",
    "cv2.imshow(\"Numberplate Image\", cv2.imread(crop_image_loc))\n",
    "cv2.waitKey(0)\n",
    "cv2.destroyAllWindows()"
   ]
  },
  {
   "cell_type": "markdown",
   "id": "f6fd5b09",
   "metadata": {},
   "source": [
    "#### 2.4 pytesseract (https://pypi.org/project/pytesseract/)\n",
    "- Python-tesseract is an optical character recognition (OCR) tool for python. That is, it will recognize and “read” the text embedded in images.\n",
    "- Python-tesseract is a wrapper for Google’s Tesseract-OCR Engine. It is also useful as a stand-alone invocation script to tesseract, as it can read all image types supported by the Pillow and Leptonica imaging libraries, including jpeg, png, gif, bmp, tiff, and others. Additionally, if used as a script, Python-tesseract will print the recognized text instead of writing it to a file."
   ]
  },
  {
   "cell_type": "code",
   "execution_count": 458,
   "id": "7fef2e85",
   "metadata": {},
   "outputs": [
    {
     "name": "stdout",
     "output_type": "stream",
     "text": [
      "The number of vehical is:  MH 20 EE 7598\n",
      "\n"
     ]
    }
   ],
   "source": [
    "#Convetring the numberplate image into txt\n",
    "pytesseract.pytesseract.tesseract_cmd = r\"C:\\Program Files\\Tesseract-OCR\\tesseract.exe\"\n",
    "text = pytesseract.image_to_string(crop_image_loc, lang='eng')\n",
    "print(\"The number of vehical is: \", text)\n",
    "cv2.waitKey(0)\n",
    "cv2.destroyAllWindows()"
   ]
  },
  {
   "cell_type": "markdown",
   "id": "b85ee3fe",
   "metadata": {},
   "source": [
    "## 3. Conclusion"
   ]
  },
  {
   "cell_type": "markdown",
   "id": "8650f87e",
   "metadata": {},
   "source": [
    "- The Number plates of the car is dectected sucessfully and with the help of pytesseract our final input image is converted into string."
   ]
  },
  {
   "cell_type": "code",
   "execution_count": null,
   "id": "4940defd",
   "metadata": {},
   "outputs": [],
   "source": []
  }
 ],
 "metadata": {
  "kernelspec": {
   "display_name": "Python 3 (ipykernel)",
   "language": "python",
   "name": "python3"
  },
  "language_info": {
   "codemirror_mode": {
    "name": "ipython",
    "version": 3
   },
   "file_extension": ".py",
   "mimetype": "text/x-python",
   "name": "python",
   "nbconvert_exporter": "python",
   "pygments_lexer": "ipython3",
   "version": "3.8.8"
  }
 },
 "nbformat": 4,
 "nbformat_minor": 5
}
